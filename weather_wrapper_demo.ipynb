{
 "cells": [
  {
   "cell_type": "markdown",
   "id": "3900fa00",
   "metadata": {},
   "source": [
    "# 🌦️ Weather Wrapper API Demonstration\n",
    "This notebook demonstrates the functionality of the FastAPI-based weather wrapper project. It allows users to:\n",
    "- Get coordinates from a city name\n",
    "- Get temperature data using those coordinates\n",
    "\n",
    "Ensure the FastAPI server is running locally on `http://localhost:8000` before executing the cells."
   ]
  },
  {
   "cell_type": "code",
   "execution_count": 1,
   "id": "2bbca9e6",
   "metadata": {},
   "outputs": [],
   "source": [
    "import requests\n",
    "import json"
   ]
  },
  {
   "cell_type": "markdown",
   "id": "ddca6756",
   "metadata": {},
   "source": [
    "## 📍 Step 1: Get coordinates from a city name\n",
    "We use the `/geocode` endpoint to get the latitude and longitude for a given city name."
   ]
  },
  {
   "cell_type": "code",
   "execution_count": 4,
   "id": "e02a5018",
   "metadata": {},
   "outputs": [
    {
     "name": "stdout",
     "output_type": "stream",
     "text": [
      "Coordinates: {'latitude': 42.6638771, 'longitude': 21.1640849}\n"
     ]
    }
   ],
   "source": [
    "city = \"Pristina\"\n",
    "geocode_response = requests.get(\"http://localhost:8080/geocode\", params={\"city\": city})\n",
    "geocode_data = geocode_response.json()\n",
    "print(\"Coordinates:\", geocode_data)"
   ]
  },
  {
   "cell_type": "markdown",
   "id": "661876d8",
   "metadata": {},
   "source": [
    "## 🌡️ Step 2: Get weather data using coordinates\n",
    "Now that we have the coordinates, we can use them to get the weather data."
   ]
  },
  {
   "cell_type": "code",
   "execution_count": 5,
   "id": "3bea0af9",
   "metadata": {},
   "outputs": [
    {
     "name": "stdout",
     "output_type": "stream",
     "text": [
      "{\n",
      "  \"latitude\": 42.75,\n",
      "  \"longitude\": 21.125,\n",
      "  \"generationtime_ms\": 0.018715858459472656,\n",
      "  \"utc_offset_seconds\": 7200,\n",
      "  \"timezone\": \"Europe/Belgrade\",\n",
      "  \"timezone_abbreviation\": \"GMT+2\",\n",
      "  \"elevation\": 594.0,\n",
      "  \"hourly_units\": {\n",
      "    \"time\": \"unixtime\",\n",
      "    \"temperature_180m\": \"\\u00b0C\"\n",
      "  },\n",
      "  \"hourly\": {\n",
      "    \"time\": [\n",
      "      1745917200,\n",
      "      1745928000,\n",
      "      1745938800,\n",
      "      1745949600,\n",
      "      1745960400,\n",
      "      1745971200,\n",
      "      1745982000,\n",
      "      1745992800\n",
      "    ],\n",
      "    \"temperature_180m\": [\n",
      "      11.5,\n",
      "      14.1,\n",
      "      15.5,\n",
      "      13.7,\n",
      "      12.4,\n",
      "      11.2,\n",
      "      10.6,\n",
      "      10.4\n",
      "    ]\n",
      "  }\n",
      "}\n"
     ]
    }
   ],
   "source": [
    "latitude = geocode_data['latitude']\n",
    "longitude = geocode_data['longitude']\n",
    "\n",
    "weather_response = requests.get(\"http://localhost:8080/weather\", params={\n",
    "    \"latitude\": latitude,\n",
    "    \"longitude\": longitude\n",
    "})\n",
    "weather_data = weather_response.json()\n",
    "print(json.dumps(weather_data, indent=2))"
   ]
  }
 ],
 "metadata": {
  "kernelspec": {
   "display_name": "base",
   "language": "python",
   "name": "python3"
  },
  "language_info": {
   "codemirror_mode": {
    "name": "ipython",
    "version": 3
   },
   "file_extension": ".py",
   "mimetype": "text/x-python",
   "name": "python",
   "nbconvert_exporter": "python",
   "pygments_lexer": "ipython3",
   "version": "3.12.7"
  }
 },
 "nbformat": 4,
 "nbformat_minor": 5
}
